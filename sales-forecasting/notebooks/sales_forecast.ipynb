{
  "nbformat": 4,
  "nbformat_minor": 0,
  "metadata": {
    "colab": {
      "provenance": [],
      "authorship_tag": "ABX9TyPpBTIl7PaR8E88u7bqYsSK",
      "include_colab_link": true
    },
    "kernelspec": {
      "name": "python3",
      "display_name": "Python 3"
    },
    "language_info": {
      "name": "python"
    }
  },
  "cells": [
    {
      "cell_type": "markdown",
      "metadata": {
        "id": "view-in-github",
        "colab_type": "text"
      },
      "source": [
        "<a href=\"https://colab.research.google.com/github/murphycollins/murphycollins.github.io/blob/main/sales-forecasting/notebooks/sales_forecast.ipynb\" target=\"_parent\"><img src=\"https://colab.research.google.com/assets/colab-badge.svg\" alt=\"Open In Colab\"/></a>"
      ]
    },
    {
      "cell_type": "code",
      "execution_count": null,
      "metadata": {
        "id": "t6BN56Z12VIl"
      },
      "outputs": [],
      "source": [
        "\n",
        "# Install required packages\n",
        "!pip install pandas matplotlib prophet statsmodels seaborn"
      ]
    },
    {
      "cell_type": "code",
      "source": [
        "\n",
        "import pandas as pd\n",
        "import matplotlib.pyplot as plt\n",
        "import seaborn as sns\n",
        "\n",
        "sns.set(style=\"whitegrid\")\n",
        "\n",
        "# Load dataset (make sure sales_sample.csv exists in your repo under data/)\n",
        "url = \"https://raw.githubusercontent.com/murphycollins/sales-forecasting/main/data/sales_sample.csv\"\n",
        "df = pd.read_csv(url, parse_dates=['date'])\n",
        "\n",
        "df.head()"
      ],
      "metadata": {
        "id": "GAtAyS1S2WfN"
      },
      "execution_count": null,
      "outputs": []
    },
    {
      "cell_type": "code",
      "source": [
        "\n",
        "# Aggregate to monthly sales\n",
        "df = df.sort_values(\"date\")\n",
        "df.set_index(\"date\", inplace=True)\n",
        "monthly = df['sales'].resample('MS').sum().reset_index()\n",
        "monthly.columns = [\"ds\", \"y\"]\n",
        "\n",
        "# Plot historical sales\n",
        "plt.figure(figsize=(10,5))\n",
        "plt.plot(monthly['ds'], monthly['y'], marker='o')\n",
        "plt.title(\"Monthly Sales\")\n",
        "plt.xlabel(\"Date\")\n",
        "plt.ylabel(\"Sales\")\n",
        "plt.show()"
      ],
      "metadata": {
        "id": "7ciBQOtv2bqu"
      },
      "execution_count": null,
      "outputs": []
    },
    {
      "cell_type": "code",
      "source": [
        "\n",
        "try:\n",
        "    from prophet import Prophet\n",
        "\n",
        "    m = Prophet()\n",
        "    m.fit(monthly)\n",
        "\n",
        "    future = m.make_future_dataframe(periods=6, freq=\"MS\")\n",
        "    forecast = m.predict(future)\n",
        "\n",
        "    # Plot forecast\n",
        "    fig = m.plot(forecast)\n",
        "    plt.show()\n",
        "\n",
        "    forecast[['ds','yhat','yhat_lower','yhat_upper']].tail(10)\n",
        "\n",
        "except Exception as e:\n",
        "    print(\"Prophet failed, using ARIMA instead:\", e)\n",
        "    from statsmodels.tsa.arima.model import ARIMA\n",
        "\n",
        "    model = ARIMA(monthly['y'], order=(1,1,1))\n",
        "    res = model.fit()\n",
        "    forecast = res.forecast(steps=6)\n",
        "    print(\"ARIMA forecast:\", forecast)"
      ],
      "metadata": {
        "id": "5sulRXIw2gWt"
      },
      "execution_count": null,
      "outputs": []
    }
  ]
}