{
 "cells": [
  {
   "cell_type": "markdown",
   "metadata": {},
   "source": [
    "# Customer Churn Analysis — Logistic Regression\n",
    "\n",
    "This notebook demonstrates data cleaning, feature engineering, model training (logistic regression), evaluation, and interpretation."
   ]
  },
  {
   "cell_type": "code",
   "metadata": {},
   "source": [
    "# Install packages if needed\n",
    "# !pip install pandas scikit-learn matplotlib seaborn shap"
   ]
  },
  {
   "cell_type": "code",
   "metadata": {},
   "source": [
    "import pandas as pd\n",
    "import numpy as np\n",
    "from sklearn.model_selection import train_test_split\n",
    "from sklearn.linear_model import LogisticRegression\n",
    "from sklearn.metrics import classification_report, roc_auc_score\n",
    "import matplotlib.pyplot as plt\n",
    "import seaborn as sns\n",
    "\n",
    "sns.set()\n",
    "\n",
    "# Load data\ndf = pd.read_csv('data/churn_sample.csv')\n",
    "df['tenure'] = df['tenure'].astype(float)\n",
    "df['monthly_charges'] = df['monthly_charges'].astype(float)\n",
    "\n",
    "# Feature engineering\n",
    "X = df[['tenure','monthly_charges']]\n",
    "y = df['churn']\n",
    "\n",
    "X_train, X_test, y_train, y_test = train_test_split(X, y, test_size=0.25, random_state=42)\n",
    "\n",
    "model = LogisticRegression()\n",
    "model.fit(X_train, y_train)\n",
    "\n",
    "probs = model.predict_proba(X_test)[:,1]\n",
    "preds = model.predict(X_test)\n",
    "\n",
    "print(classification_report(y_test, preds))\n",
    "print('AUC:', roc_auc_score(y_test, probs))\n",
    "\n",
    "# Plot probability distribution\n",
    "plt.figure(figsize=(6,4))\n",
    "plt.hist(probs, bins=10)\n",
    "plt.title('Predicted Churn Probability (test set)')\n",
    "plt.xlabel('Probability')\n",
    "plt.ylabel('Count')\n",
    "plt.show()"
   ]
  },
  {
   "cell_type": "markdown",
   "metadata": {},
   "source": [
    "## Model interpretation\n",
    "If you want model-level explanation, install `shap` and run SHAP summary plots. Example:\n",
    "\n",
    "```python\n",
    "import shap\n",
    "explainer = shap.LinearExplainer(model, X_train)\n",
    "shap_values = explainer.shap_values(X_test)\n",
    "shap.summary_plot(shap_values, X_test)\n",
    "```"
   ]
  }
 ],
 "metadata": {
  "kernelspec": {
   "display_name": "Python 3",
   "language": "python",
   "name": "python3"
  },
  "language_info": {
   "name": "python"
  }
 },
 "nbformat": 4,
 "nbformat_minor": 5
}
