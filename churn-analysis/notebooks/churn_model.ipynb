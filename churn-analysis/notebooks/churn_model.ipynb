{
  "nbformat": 4,
  "nbformat_minor": 0,
  "metadata": {
    "colab": {
      "provenance": [],
      "authorship_tag": "ABX9TyOrySdHGJ32daW5S3Xu3/zL",
      "include_colab_link": true
    },
    "kernelspec": {
      "name": "python3",
      "display_name": "Python 3"
    },
    "language_info": {
      "name": "python"
    }
  },
  "cells": [
    {
      "cell_type": "markdown",
      "metadata": {
        "id": "view-in-github",
        "colab_type": "text"
      },
      "source": [
        "<a href=\"https://colab.research.google.com/github/murphycollins/murphycollins.github.io/blob/main/churn-analysis/notebooks/churn_model.ipynb\" target=\"_parent\"><img src=\"https://colab.research.google.com/assets/colab-badge.svg\" alt=\"Open In Colab\"/></a>"
      ]
    },
    {
      "cell_type": "code",
      "execution_count": null,
      "metadata": {
        "id": "1qQfHb6Jy_I-"
      },
      "outputs": [],
      "source": [
        "# Install required packages\n",
        "!pip install pandas scikit-learn matplotlib seaborn shap"
      ]
    },
    {
      "cell_type": "code",
      "source": [
        "\n",
        "import pandas as pd\n",
        "import numpy as np\n",
        "import matplotlib.pyplot as plt\n",
        "import seaborn as sns\n",
        "from sklearn.model_selection import train_test_split\n",
        "from sklearn.linear_model import LogisticRegression\n",
        "from sklearn.metrics import classification_report, roc_auc_score\n",
        "\n",
        "# Load dataset (you must create churn_sample.csv in your GitHub repo under data/)\n",
        "url = \"https://raw.githubusercontent.com/murphycollins/churn-analysis/main/data/churn_sample.csv\"\n",
        "df = pd.read_csv(url)\n",
        "\n",
        "df.head()"
      ],
      "metadata": {
        "id": "OkR6afJRz7_4"
      },
      "execution_count": null,
      "outputs": []
    },
    {
      "cell_type": "code",
      "source": [
        "\n",
        "X = df[['tenure','monthly_charges']]\n",
        "y = df['churn']\n",
        "\n",
        "X_train, X_test, y_train, y_test = train_test_split(X, y, test_size=0.25, random_state=42)\n",
        "\n",
        "model = LogisticRegression()\n",
        "model.fit(X_train, y_train)\n",
        "\n",
        "preds = model.predict(X_test)\n",
        "probs = model.predict_proba(X_test)[:,1]\n",
        "\n",
        "print(classification_report(y_test, preds))\n",
        "print(\"AUC:\", roc_auc_score(y_test, probs))"
      ],
      "metadata": {
        "id": "-DYpjGsA0DoO"
      },
      "execution_count": null,
      "outputs": []
    },
    {
      "cell_type": "code",
      "source": [
        "\n",
        "plt.figure(figsize=(6,4))\n",
        "plt.hist(probs, bins=10, color=\"skyblue\", edgecolor=\"black\")\n",
        "plt.title(\"Predicted Churn Probability (Test Set)\")\n",
        "plt.xlabel(\"Probability\")\n",
        "plt.ylabel(\"Count\")\n",
        "plt.show()"
      ],
      "metadata": {
        "id": "gnVxubMe0IYP"
      },
      "execution_count": null,
      "outputs": []
    },
    {
      "cell_type": "code",
      "source": [
        "\n",
        "import shap\n",
        "\n",
        "explainer = shap.LinearExplainer(model, X_train)\n",
        "shap_values = explainer.shap_values(X_test)\n",
        "\n",
        "shap.summary_plot(shap_values, X_test)"
      ],
      "metadata": {
        "id": "GzSC0l3I0OBd"
      },
      "execution_count": null,
      "outputs": []
    }
  ]
}