{
  "nbformat": 4,
  "nbformat_minor": 0,
  "metadata": {
    "colab": {
      "provenance": [],
      "authorship_tag": "ABX9TyPcMUJHTL20gRBGisEFQmRs",
      "include_colab_link": true
    },
    "kernelspec": {
      "name": "python3",
      "display_name": "Python 3"
    },
    "language_info": {
      "name": "python"
    }
  },
  "cells": [
    {
      "cell_type": "markdown",
      "metadata": {
        "id": "view-in-github",
        "colab_type": "text"
      },
      "source": [
        "<a href=\"https://colab.research.google.com/github/murphycollins/murphycollins.github.io/blob/main/warehouse-migration/notebooks/etl_schema.ipynb\" target=\"_parent\"><img src=\"https://colab.research.google.com/assets/colab-badge.svg\" alt=\"Open In Colab\"/></a>"
      ]
    },
    {
      "cell_type": "code",
      "execution_count": null,
      "metadata": {
        "id": "85kwS3ai5hOa"
      },
      "outputs": [],
      "source": [
        "\n",
        "# Install required packages\n",
        "!pip install pandas sqlalchemy matplotlib seaborn"
      ]
    },
    {
      "cell_type": "code",
      "source": [
        "\n",
        "import sqlite3\n",
        "\n",
        "# Connect to local SQLite DB (for demo)\n",
        "conn = sqlite3.connect(\"warehouse.db\")\n",
        "c = conn.cursor()\n",
        "\n",
        "# Create tables\n",
        "c.execute('''\n",
        "CREATE TABLE IF NOT EXISTS dim_customer (\n",
        "    customer_id TEXT PRIMARY KEY,\n",
        "    name TEXT,\n",
        "    region TEXT\n",
        ")\n",
        "''')\n",
        "\n",
        "c.execute('''\n",
        "CREATE TABLE IF NOT EXISTS dim_date (\n",
        "    date_id TEXT PRIMARY KEY,\n",
        "    date TEXT,\n",
        "    month INT,\n",
        "    year INT\n",
        ")\n",
        "''')\n",
        "\n",
        "c.execute('''\n",
        "CREATE TABLE IF NOT EXISTS fact_sales (\n",
        "    sale_id TEXT PRIMARY KEY,\n",
        "    date_id TEXT,\n",
        "    customer_id TEXT,\n",
        "    store_id TEXT,\n",
        "    amount REAL\n",
        ")\n",
        "''')\n",
        "\n",
        "conn.commit()\n",
        "print(\"✅ Tables created successfully\")"
      ],
      "metadata": {
        "id": "k7LW3KfS5vyw"
      },
      "execution_count": null,
      "outputs": []
    },
    {
      "cell_type": "code",
      "source": [
        "\n",
        "import pandas as pd\n",
        "\n",
        "# Sample data for customers\n",
        "customers = pd.DataFrame({\n",
        "    \"customer_id\": [\"C001\",\"C002\",\"C003\"],\n",
        "    \"name\": [\"Alice\",\"Bob\",\"Charlie\"],\n",
        "    \"region\": [\"North\",\"South\",\"West\"]\n",
        "})\n",
        "\n",
        "# Load customers into the dim_customer table\n",
        "customers.to_sql(\"dim_customer\", conn, if_exists=\"append\", index=False)\n",
        "\n",
        "# Check load\n",
        "pd.read_sql(\"SELECT * FROM dim_customer\", conn)"
      ],
      "metadata": {
        "id": "VmaoPWhc538e"
      },
      "execution_count": null,
      "outputs": []
    },
    {
      "cell_type": "code",
      "source": [
        "\n",
        "# Insert a sales record\n",
        "c.execute(\"INSERT INTO fact_sales VALUES ('S001','D001','C001','Store_1',250.0)\")\n",
        "conn.commit()\n",
        "\n",
        "pd.read_sql(\"SELECT * FROM fact_sales\", conn)"
      ],
      "metadata": {
        "id": "ntLsPTVH579Q"
      },
      "execution_count": null,
      "outputs": []
    },
    {
      "cell_type": "code",
      "source": [
        "\n",
        "query = \"\"\"\n",
        "SELECT f.sale_id, d.date, c.name, c.region, f.amount\n",
        "FROM fact_sales f\n",
        "LEFT JOIN dim_customer c ON f.customer_id = c.customer_id\n",
        "LEFT JOIN dim_date d ON f.date_id = d.date_id\n",
        "\"\"\"\n",
        "pd.read_sql(query, conn)"
      ],
      "metadata": {
        "id": "d-BXP-Gg5_1X"
      },
      "execution_count": null,
      "outputs": []
    }
  ]
}