{
  "nbformat": 4,
  "nbformat_minor": 0,
  "metadata": {
    "colab": {
      "provenance": [],
      "authorship_tag": "ABX9TyM+AAdxE3ip79GFN5uQzTcr",
      "include_colab_link": true
    },
    "kernelspec": {
      "name": "python3",
      "display_name": "Python 3"
    },
    "language_info": {
      "name": "python"
    }
  },
  "cells": [
    {
      "cell_type": "markdown",
      "metadata": {
        "id": "view-in-github",
        "colab_type": "text"
      },
      "source": [
        "<a href=\"https://colab.research.google.com/github/murphycollins/murphycollins.github.io/blob/main/ab-test-email/notebooks/ab_analysis.ipynb\" target=\"_parent\"><img src=\"https://colab.research.google.com/assets/colab-badge.svg\" alt=\"Open In Colab\"/></a>"
      ]
    },
    {
      "cell_type": "code",
      "execution_count": null,
      "metadata": {
        "id": "n67luyGg3nsd"
      },
      "outputs": [],
      "source": [
        "# Install required packages\n",
        "!pip install pandas scipy matplotlib seaborn"
      ]
    },
    {
      "cell_type": "code",
      "source": [
        "\n",
        "import pandas as pd\n",
        "import numpy as np\n",
        "import matplotlib.pyplot as plt\n",
        "import seaborn as sns\n",
        "from scipy import stats\n",
        "from scipy.stats import beta\n",
        "\n",
        "sns.set(style=\"whitegrid\")\n",
        "\n",
        "# Load dataset (you must create ab_sample.csv in your repo under data/)\n",
        "url = \"https://raw.githubusercontent.com/murphycollins/ab-test-email/main/data/ab_sample.csv\"\n",
        "df = pd.read_csv(url)\n",
        "\n",
        "df.head()"
      ],
      "metadata": {
        "id": "68MmFBOL3r4w"
      },
      "execution_count": null,
      "outputs": []
    },
    {
      "cell_type": "code",
      "source": [
        "\n",
        "summary = df.groupby(\"variant\")[\"converted\"].agg([\"sum\",\"count\"])\n",
        "summary[\"rate\"] = summary[\"sum\"] / summary[\"count\"]\n",
        "summary"
      ],
      "metadata": {
        "id": "7qOwUfpX3vqd"
      },
      "execution_count": null,
      "outputs": []
    },
    {
      "cell_type": "code",
      "source": [
        "\n",
        "# Build contingency table\n",
        "count_A, count_B = summary.loc[\"A\",\"sum\"], summary.loc[\"B\",\"sum\"]\n",
        "nobs_A, nobs_B = summary.loc[\"A\",\"count\"], summary.loc[\"B\",\"count\"]\n",
        "\n",
        "table = [[count_A, nobs_A - count_A],\n",
        "         [count_B, nobs_B - count_B]]\n",
        "\n",
        "chi2, pval, _, _ = stats.chi2_contingency(table)\n",
        "print(\"Chi-squared test p-value:\", pval)"
      ],
      "metadata": {
        "id": "knehJIZX30DI"
      },
      "execution_count": null,
      "outputs": []
    },
    {
      "cell_type": "code",
      "source": [
        "\n",
        "aA, bA = 1 + summary.loc[\"A\",\"sum\"], 1 + summary.loc[\"A\",\"count\"] - summary.loc[\"A\",\"sum\"]\n",
        "aB, bB = 1 + summary.loc[\"B\",\"sum\"], 1 + summary.loc[\"B\",\"count\"] - summary.loc[\"B\",\"sum\"]\n",
        "\n",
        "xs = np.linspace(0,1,200)\n",
        "plt.figure(figsize=(8,5))\n",
        "plt.plot(xs, beta.pdf(xs, aA, bA), label=\"Variant A\")\n",
        "plt.plot(xs, beta.pdf(xs, aB, bB), label=\"Variant B\")\n",
        "plt.title(\"Posterior Conversion Rates\")\n",
        "plt.xlabel(\"Conversion Rate\")\n",
        "plt.ylabel(\"Density\")\n",
        "plt.legend()\n",
        "plt.show()"
      ],
      "metadata": {
        "id": "vqqJz-YC35eq"
      },
      "execution_count": null,
      "outputs": []
    }
  ]
}