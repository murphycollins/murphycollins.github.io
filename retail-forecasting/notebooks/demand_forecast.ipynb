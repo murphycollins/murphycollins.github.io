{
  "nbformat": 4,
  "nbformat_minor": 0,
  "metadata": {
    "colab": {
      "provenance": [],
      "authorship_tag": "ABX9TyOshzMpPwOrF5cA8YfpkgcF",
      "include_colab_link": true
    },
    "kernelspec": {
      "name": "python3",
      "display_name": "Python 3"
    },
    "language_info": {
      "name": "python"
    }
  },
  "cells": [
    {
      "cell_type": "markdown",
      "metadata": {
        "id": "view-in-github",
        "colab_type": "text"
      },
      "source": [
        "<a href=\"https://colab.research.google.com/github/murphycollins/murphycollins.github.io/blob/main/retail-forecasting/notebooks/demand_forecast.ipynb\" target=\"_parent\"><img src=\"https://colab.research.google.com/assets/colab-badge.svg\" alt=\"Open In Colab\"/></a>"
      ]
    },
    {
      "cell_type": "code",
      "execution_count": null,
      "metadata": {
        "id": "6aFhPwyx4pIq"
      },
      "outputs": [],
      "source": [
        "\n",
        "# Install required packages\n",
        "!pip install pandas matplotlib statsmodels seaborn"
      ]
    },
    {
      "cell_type": "code",
      "source": [
        "\n",
        "import pandas as pd\n",
        "import matplotlib.pyplot as plt\n",
        "import seaborn as sns\n",
        "from statsmodels.tsa.arima.model import ARIMA\n",
        "\n",
        "sns.set(style=\"whitegrid\")\n",
        "\n",
        "# Load dataset (you must create store_forecast_sample.csv in your repo under data/)\n",
        "url = \"https://raw.githubusercontent.com/murphycollins/retail-forecasting/main/data/store_forecast_sample.csv\"\n",
        "df = pd.read_csv(url, parse_dates=[\"date\"])\n",
        "\n",
        "df.head()"
      ],
      "metadata": {
        "id": "GYed5aEQ42d1"
      },
      "execution_count": null,
      "outputs": []
    },
    {
      "cell_type": "code",
      "source": [
        "\n",
        "series = df.set_index(\"date\")[\"actual\"]\n",
        "\n",
        "model = ARIMA(series, order=(1,1,1))\n",
        "res = model.fit()\n",
        "\n",
        "# Predict\n",
        "pred = res.predict(start=series.index[0], end=series.index[-1], dynamic=False)\n",
        "\n",
        "plt.figure(figsize=(10,5))\n",
        "plt.plot(series, label=\"Actual\", marker=\"o\")\n",
        "plt.plot(pred, label=\"Predicted\", color=\"red\")\n",
        "plt.title(\"Retail Demand Forecasting (ARIMA)\")\n",
        "plt.legend()\n",
        "plt.show()"
      ],
      "metadata": {
        "id": "q-9x8har45QX"
      },
      "execution_count": null,
      "outputs": []
    },
    {
      "cell_type": "code",
      "source": [
        "\n",
        "resid = series - pred\n",
        "threshold = 2 * resid.std()\n",
        "\n",
        "anomalies = resid[abs(resid) > threshold]\n",
        "\n",
        "print(\"Anomalies detected:\")\n",
        "print(anomalies)\n",
        "\n",
        "plt.figure(figsize=(10,5))\n",
        "plt.plot(resid, label=\"Residuals\")\n",
        "plt.axhline(threshold, color=\"red\", linestyle=\"--\", label=\"Threshold\")\n",
        "plt.axhline(-threshold, color=\"red\", linestyle=\"--\")\n",
        "plt.scatter(anomalies.index, anomalies.values, color=\"red\", label=\"Anomalies\")\n",
        "plt.title(\"Residuals & Anomalies\")\n",
        "plt.legend()\n",
        "plt.show()"
      ],
      "metadata": {
        "id": "Efhx1EMS49-S"
      },
      "execution_count": null,
      "outputs": []
    }
  ]
}